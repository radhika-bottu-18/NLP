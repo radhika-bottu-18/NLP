{
 "cells": [
  {
   "cell_type": "code",
   "execution_count": 11,
   "id": "e191ee86-07ea-424e-841e-936c4cd0e120",
   "metadata": {},
   "outputs": [
    {
     "name": "stdout",
     "output_type": "stream",
     "text": [
      "Vector for language: [-0.0960355   0.05007293 -0.08759586 -0.04391825 -0.000351   -0.00296181\n",
      " -0.0766124   0.09614743  0.04982058  0.09233143]\n",
      "[('a', 0.614398181438446), ('great', 0.24953821301460266), ('I', 0.1417798101902008), ('language', 0.04264766722917557), ('natural', 0.02677200734615326)]\n"
     ]
    }
   ],
   "source": [
    "import gensim \n",
    "from gensim.models import Word2Vec\n",
    "sentences = [\n",
    "    [\"I\", \"love\", \"natural\", \"language\", \"processing\"],\n",
    "    [\"Word2Vec\", \"is\", \"a\", \"great\", \"tool\"],\n",
    "    [\"Machine\", \"learning\", \"is\", \"fun\"],\n",
    "]\n",
    "model = Word2Vec(sentences ,vector_size = 10,window =5, min_count=1,sg=1)\n",
    "vector = model.wv['tool']\n",
    "print('Vector for language:',vector)\n",
    "similar_words = model.wv.most_similar('tool',topn=5)\n",
    "print(similar_words)"
   ]
  },
  {
   "cell_type": "code",
   "execution_count": 15,
   "id": "a4012701-d32f-4f25-b821-1b7931a7bc85",
   "metadata": {},
   "outputs": [
    {
     "name": "stdout",
     "output_type": "stream",
     "text": [
      "cbow vector for language [ 9.4794443e-05  3.0776660e-03 -6.8129268e-03 -1.3756783e-03\n",
      "  7.6698321e-03  7.3483307e-03 -3.6729362e-03  2.6408839e-03\n",
      " -8.3165076e-03  6.2072724e-03 -4.6391813e-03 -3.1636052e-03\n",
      "  9.3106655e-03  8.7376230e-04  7.4904198e-03 -6.0752141e-03\n",
      "  5.1592872e-03  9.9243205e-03 -8.4574828e-03 -5.1340456e-03\n",
      " -7.0650815e-03 -4.8629697e-03 -3.7796097e-03 -8.5361497e-03\n",
      "  7.9556443e-03 -4.8439130e-03  8.4241610e-03  5.2615325e-03\n",
      " -6.5502375e-03  3.9581223e-03  5.4700365e-03 -7.4268035e-03\n",
      " -7.4072029e-03 -2.4764745e-03 -8.6256117e-03 -1.5829162e-03\n",
      " -4.0474746e-04  3.3000517e-03  1.4428297e-03 -8.8208629e-04\n",
      " -5.5940356e-03  1.7293066e-03 -8.9629035e-04  6.7937491e-03\n",
      "  3.9739395e-03  4.5298305e-03  1.4351519e-03 -2.7006667e-03\n",
      " -4.3665408e-03 -1.0332628e-03  1.4375091e-03 -2.6469158e-03\n",
      " -7.0722066e-03 -7.8058685e-03 -9.1226082e-03 -5.9341355e-03\n",
      " -1.8468037e-03 -4.3235817e-03 -6.4619821e-03 -3.7178723e-03\n",
      "  4.2904112e-03 -3.7397402e-03  8.3768284e-03  1.5343785e-03\n",
      " -7.2409823e-03  9.4339680e-03  7.6326625e-03  5.4943082e-03\n",
      " -6.8490817e-03  5.8238246e-03  4.0079155e-03  5.1836823e-03\n",
      "  4.2568049e-03  1.9397212e-03 -3.1705969e-03  8.3537176e-03\n",
      "  9.6112443e-03  3.7936033e-03 -2.8369424e-03  6.7305832e-06\n",
      "  1.2181988e-03 -8.4593873e-03 -8.2249697e-03 -2.3308117e-04\n",
      "  1.2385092e-03 -5.7431920e-03 -4.7247363e-03 -7.3465765e-03\n",
      "  8.3276192e-03  1.2043064e-04 -4.5089805e-03  5.7007410e-03\n",
      "  9.1796070e-03 -4.1010864e-03  7.9633193e-03  5.3759255e-03\n",
      "  5.8792117e-03  5.1329390e-04  8.2118409e-03 -7.0186048e-03]\n",
      "skipgram vector for language: [ 9.42478000e-05  3.07589723e-03 -6.81467308e-03 -1.37446506e-03\n",
      "  7.66968913e-03  7.34756188e-03 -3.67422565e-03  2.64107878e-03\n",
      " -8.31711013e-03  6.20709499e-03 -4.63969819e-03 -3.16430302e-03\n",
      "  9.31042060e-03  8.73924117e-04  7.48968776e-03 -6.07334916e-03\n",
      "  5.15946327e-03  9.92259663e-03 -8.45542643e-03 -5.13521628e-03\n",
      " -7.06540514e-03 -4.86227963e-03 -3.78140691e-03 -8.53707641e-03\n",
      "  7.95734860e-03 -4.84467065e-03  8.42242502e-03  5.26282424e-03\n",
      " -6.55034464e-03  3.95740150e-03  5.47204912e-03 -7.42573338e-03\n",
      " -7.40648946e-03 -2.47416925e-03 -8.62730667e-03 -1.58222113e-03\n",
      " -4.05228348e-04  3.30146588e-03  1.44360668e-03 -8.81455548e-04\n",
      " -5.59283607e-03  1.72997033e-03 -8.96777317e-04  6.79324893e-03\n",
      "  3.97348078e-03  4.53017978e-03  1.43477262e-03 -2.69988249e-03\n",
      " -4.36586002e-03 -1.03212311e-03  1.43821072e-03 -2.64558522e-03\n",
      " -7.07180146e-03 -7.80386291e-03 -9.12202150e-03 -5.93545521e-03\n",
      " -1.84791500e-03 -4.32417588e-03 -6.46110671e-03 -3.71831306e-03\n",
      "  4.28991020e-03 -3.73849226e-03  8.37847777e-03  1.53453019e-03\n",
      " -7.24213943e-03  9.43322573e-03  7.63178896e-03  5.49173821e-03\n",
      " -6.84854668e-03  5.82335703e-03  4.00784146e-03  5.18454844e-03\n",
      "  4.25614510e-03  1.93787215e-03 -3.17041040e-03  8.35264847e-03\n",
      "  9.61161498e-03  3.79254599e-03 -2.83515733e-03  7.22470668e-06\n",
      "  1.21920742e-03 -8.46034940e-03 -8.22578371e-03 -2.32077524e-04\n",
      "  1.23913167e-03 -5.74427750e-03 -4.72703110e-03 -7.34633533e-03\n",
      "  8.32915492e-03  1.21630226e-04 -4.51042084e-03  5.70245273e-03\n",
      "  9.18024499e-03 -4.09950921e-03  7.96421152e-03  5.37427003e-03\n",
      "  5.87765872e-03  5.15150023e-04  8.21374636e-03 -7.01800501e-03]\n",
      "cbow - words similar to language [('tool', 0.1991048902273178), ('Word2Vec', 0.17271503806114197), ('Natural', 0.170233353972435), ('learning', 0.14595259726047516), ('fun', 0.06409329921007156)]\n",
      "skipgram -words simlar to language [('tool', 0.19910898804664612), ('Word2Vec', 0.17269527912139893), ('Natural', 0.17020359635353088), ('learning', 0.1459759771823883), ('fun', 0.06406981498003006)]\n"
     ]
    }
   ],
   "source": [
    "import gensim \n",
    "from gensim.models import Word2Vec \n",
    "sentences = [\n",
    "    [\"I\", \"love\", \"natural\", \"language\", \"processing\"],\n",
    "    [\"Word2Vec\", \"is\", \"a\", \"great\", \"tool\"],\n",
    "    [\"Machine\", \"learning\", \"is\", \"fun\"],\n",
    "    [\"Natural\", \"language\", \"processing\", \"is\", \"awesome\"]\n",
    "]\n",
    "\n",
    "cbow_model = Word2Vec(sentences,vector_size=100,window=2,min_count=1,sg=0)\n",
    "skipgram_model = Word2Vec(sentences,vector_size =100,window=2,min_count=1,sg=1)\n",
    "\n",
    "word='language'\n",
    "cbow_vector = cbow_model.wv[word]\n",
    "skipgram_vector = skipgram_model.wv[word]\n",
    "\n",
    "print(f'cbow vector for {word}',cbow_vector)\n",
    "print(f'skipgram vector for {word}:',skipgram_vector)\n",
    "\n",
    "cbow_similar_words = cbow_model.wv.most_similar(word,topn=5)\n",
    "skipgram_similar_words = skipgram_model.wv.most_similar(word,topn=5)\n",
    "print(f'cbow - words similar to {word}',cbow_similar_words)\n",
    "print(f'skipgram -words simlar to {word}',skipgram_similar_words)"
   ]
  },
  {
   "cell_type": "code",
   "execution_count": null,
   "id": "d4b0fe74-1e12-42f1-9453-3ba0c4c33937",
   "metadata": {},
   "outputs": [],
   "source": []
  }
 ],
 "metadata": {
  "kernelspec": {
   "display_name": "Python [conda env:base] *",
   "language": "python",
   "name": "conda-base-py"
  },
  "language_info": {
   "codemirror_mode": {
    "name": "ipython",
    "version": 3
   },
   "file_extension": ".py",
   "mimetype": "text/x-python",
   "name": "python",
   "nbconvert_exporter": "python",
   "pygments_lexer": "ipython3",
   "version": "3.12.7"
  }
 },
 "nbformat": 4,
 "nbformat_minor": 5
}
