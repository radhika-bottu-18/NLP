{
  "nbformat": 4,
  "nbformat_minor": 0,
  "metadata": {
    "colab": {
      "provenance": [],
      "gpuType": "T4"
    },
    "kernelspec": {
      "name": "python3",
      "display_name": "Python 3"
    },
    "language_info": {
      "name": "python"
    },
    "accelerator": "GPU"
  },
  "cells": [
    {
      "cell_type": "code",
      "execution_count": 1,
      "metadata": {
        "colab": {
          "base_uri": "https://localhost:8080/"
        },
        "id": "d0jGpw45cdVQ",
        "outputId": "309d0808-c9bd-4f62-dd11-0cc7741832c3"
      },
      "outputs": [
        {
          "output_type": "stream",
          "name": "stdout",
          "text": [
            "Collecting langgraph\n",
            "  Downloading langgraph-0.4.7-py3-none-any.whl.metadata (6.8 kB)\n",
            "Requirement already satisfied: langsmith in /usr/local/lib/python3.11/dist-packages (0.3.42)\n",
            "Collecting langchain_groq\n",
            "  Downloading langchain_groq-0.3.2-py3-none-any.whl.metadata (2.6 kB)\n",
            "Collecting langchain_community\n",
            "  Downloading langchain_community-0.3.24-py3-none-any.whl.metadata (2.5 kB)\n",
            "Requirement already satisfied: langchain-core>=0.1 in /usr/local/lib/python3.11/dist-packages (from langgraph) (0.3.60)\n",
            "Collecting langgraph-checkpoint>=2.0.26 (from langgraph)\n",
            "  Downloading langgraph_checkpoint-2.0.26-py3-none-any.whl.metadata (4.6 kB)\n",
            "Collecting langgraph-prebuilt>=0.2.0 (from langgraph)\n",
            "  Downloading langgraph_prebuilt-0.2.2-py3-none-any.whl.metadata (4.5 kB)\n",
            "Collecting langgraph-sdk>=0.1.42 (from langgraph)\n",
            "  Downloading langgraph_sdk-0.1.70-py3-none-any.whl.metadata (1.5 kB)\n",
            "Requirement already satisfied: pydantic>=2.7.4 in /usr/local/lib/python3.11/dist-packages (from langgraph) (2.11.4)\n",
            "Requirement already satisfied: xxhash>=3.5.0 in /usr/local/lib/python3.11/dist-packages (from langgraph) (3.5.0)\n",
            "Requirement already satisfied: httpx<1,>=0.23.0 in /usr/local/lib/python3.11/dist-packages (from langsmith) (0.28.1)\n",
            "Requirement already satisfied: orjson<4.0.0,>=3.9.14 in /usr/local/lib/python3.11/dist-packages (from langsmith) (3.10.18)\n",
            "Requirement already satisfied: packaging>=23.2 in /usr/local/lib/python3.11/dist-packages (from langsmith) (24.2)\n",
            "Requirement already satisfied: requests<3,>=2 in /usr/local/lib/python3.11/dist-packages (from langsmith) (2.32.3)\n",
            "Requirement already satisfied: requests-toolbelt<2.0.0,>=1.0.0 in /usr/local/lib/python3.11/dist-packages (from langsmith) (1.0.0)\n",
            "Requirement already satisfied: zstandard<0.24.0,>=0.23.0 in /usr/local/lib/python3.11/dist-packages (from langsmith) (0.23.0)\n",
            "Collecting groq<1,>=0.4.1 (from langchain_groq)\n",
            "  Downloading groq-0.26.0-py3-none-any.whl.metadata (15 kB)\n",
            "Requirement already satisfied: langchain<1.0.0,>=0.3.25 in /usr/local/lib/python3.11/dist-packages (from langchain_community) (0.3.25)\n",
            "Requirement already satisfied: SQLAlchemy<3,>=1.4 in /usr/local/lib/python3.11/dist-packages (from langchain_community) (2.0.41)\n",
            "Requirement already satisfied: PyYAML>=5.3 in /usr/local/lib/python3.11/dist-packages (from langchain_community) (6.0.2)\n",
            "Requirement already satisfied: aiohttp<4.0.0,>=3.8.3 in /usr/local/lib/python3.11/dist-packages (from langchain_community) (3.11.15)\n",
            "Requirement already satisfied: tenacity!=8.4.0,<10,>=8.1.0 in /usr/local/lib/python3.11/dist-packages (from langchain_community) (9.1.2)\n",
            "Collecting dataclasses-json<0.7,>=0.5.7 (from langchain_community)\n",
            "  Downloading dataclasses_json-0.6.7-py3-none-any.whl.metadata (25 kB)\n",
            "Collecting pydantic-settings<3.0.0,>=2.4.0 (from langchain_community)\n",
            "  Downloading pydantic_settings-2.9.1-py3-none-any.whl.metadata (3.8 kB)\n",
            "Collecting httpx-sse<1.0.0,>=0.4.0 (from langchain_community)\n",
            "  Downloading httpx_sse-0.4.0-py3-none-any.whl.metadata (9.0 kB)\n",
            "Requirement already satisfied: numpy>=1.26.2 in /usr/local/lib/python3.11/dist-packages (from langchain_community) (2.0.2)\n",
            "Requirement already satisfied: aiohappyeyeballs>=2.3.0 in /usr/local/lib/python3.11/dist-packages (from aiohttp<4.0.0,>=3.8.3->langchain_community) (2.6.1)\n",
            "Requirement already satisfied: aiosignal>=1.1.2 in /usr/local/lib/python3.11/dist-packages (from aiohttp<4.0.0,>=3.8.3->langchain_community) (1.3.2)\n",
            "Requirement already satisfied: attrs>=17.3.0 in /usr/local/lib/python3.11/dist-packages (from aiohttp<4.0.0,>=3.8.3->langchain_community) (25.3.0)\n",
            "Requirement already satisfied: frozenlist>=1.1.1 in /usr/local/lib/python3.11/dist-packages (from aiohttp<4.0.0,>=3.8.3->langchain_community) (1.6.0)\n",
            "Requirement already satisfied: multidict<7.0,>=4.5 in /usr/local/lib/python3.11/dist-packages (from aiohttp<4.0.0,>=3.8.3->langchain_community) (6.4.4)\n",
            "Requirement already satisfied: propcache>=0.2.0 in /usr/local/lib/python3.11/dist-packages (from aiohttp<4.0.0,>=3.8.3->langchain_community) (0.3.1)\n",
            "Requirement already satisfied: yarl<2.0,>=1.17.0 in /usr/local/lib/python3.11/dist-packages (from aiohttp<4.0.0,>=3.8.3->langchain_community) (1.20.0)\n",
            "Collecting marshmallow<4.0.0,>=3.18.0 (from dataclasses-json<0.7,>=0.5.7->langchain_community)\n",
            "  Downloading marshmallow-3.26.1-py3-none-any.whl.metadata (7.3 kB)\n",
            "Collecting typing-inspect<1,>=0.4.0 (from dataclasses-json<0.7,>=0.5.7->langchain_community)\n",
            "  Downloading typing_inspect-0.9.0-py3-none-any.whl.metadata (1.5 kB)\n",
            "Requirement already satisfied: anyio<5,>=3.5.0 in /usr/local/lib/python3.11/dist-packages (from groq<1,>=0.4.1->langchain_groq) (4.9.0)\n",
            "Requirement already satisfied: distro<2,>=1.7.0 in /usr/local/lib/python3.11/dist-packages (from groq<1,>=0.4.1->langchain_groq) (1.9.0)\n",
            "Requirement already satisfied: sniffio in /usr/local/lib/python3.11/dist-packages (from groq<1,>=0.4.1->langchain_groq) (1.3.1)\n",
            "Requirement already satisfied: typing-extensions<5,>=4.10 in /usr/local/lib/python3.11/dist-packages (from groq<1,>=0.4.1->langchain_groq) (4.13.2)\n",
            "Requirement already satisfied: certifi in /usr/local/lib/python3.11/dist-packages (from httpx<1,>=0.23.0->langsmith) (2025.4.26)\n",
            "Requirement already satisfied: httpcore==1.* in /usr/local/lib/python3.11/dist-packages (from httpx<1,>=0.23.0->langsmith) (1.0.9)\n",
            "Requirement already satisfied: idna in /usr/local/lib/python3.11/dist-packages (from httpx<1,>=0.23.0->langsmith) (3.10)\n",
            "Requirement already satisfied: h11>=0.16 in /usr/local/lib/python3.11/dist-packages (from httpcore==1.*->httpx<1,>=0.23.0->langsmith) (0.16.0)\n",
            "Requirement already satisfied: langchain-text-splitters<1.0.0,>=0.3.8 in /usr/local/lib/python3.11/dist-packages (from langchain<1.0.0,>=0.3.25->langchain_community) (0.3.8)\n",
            "Requirement already satisfied: jsonpatch<2.0,>=1.33 in /usr/local/lib/python3.11/dist-packages (from langchain-core>=0.1->langgraph) (1.33)\n",
            "Collecting ormsgpack<2.0.0,>=1.8.0 (from langgraph-checkpoint>=2.0.26->langgraph)\n",
            "  Downloading ormsgpack-1.10.0-cp311-cp311-manylinux_2_17_x86_64.manylinux2014_x86_64.whl.metadata (43 kB)\n",
            "\u001b[2K     \u001b[90m━━━━━━━━━━━━━━━━━━━━━━━━━━━━━━━━━━━━━━━━\u001b[0m \u001b[32m43.7/43.7 kB\u001b[0m \u001b[31m2.9 MB/s\u001b[0m eta \u001b[36m0:00:00\u001b[0m\n",
            "\u001b[?25hRequirement already satisfied: annotated-types>=0.6.0 in /usr/local/lib/python3.11/dist-packages (from pydantic>=2.7.4->langgraph) (0.7.0)\n",
            "Requirement already satisfied: pydantic-core==2.33.2 in /usr/local/lib/python3.11/dist-packages (from pydantic>=2.7.4->langgraph) (2.33.2)\n",
            "Requirement already satisfied: typing-inspection>=0.4.0 in /usr/local/lib/python3.11/dist-packages (from pydantic>=2.7.4->langgraph) (0.4.1)\n",
            "Collecting python-dotenv>=0.21.0 (from pydantic-settings<3.0.0,>=2.4.0->langchain_community)\n",
            "  Downloading python_dotenv-1.1.0-py3-none-any.whl.metadata (24 kB)\n",
            "Requirement already satisfied: charset-normalizer<4,>=2 in /usr/local/lib/python3.11/dist-packages (from requests<3,>=2->langsmith) (3.4.2)\n",
            "Requirement already satisfied: urllib3<3,>=1.21.1 in /usr/local/lib/python3.11/dist-packages (from requests<3,>=2->langsmith) (2.4.0)\n",
            "Requirement already satisfied: greenlet>=1 in /usr/local/lib/python3.11/dist-packages (from SQLAlchemy<3,>=1.4->langchain_community) (3.2.2)\n",
            "Requirement already satisfied: jsonpointer>=1.9 in /usr/local/lib/python3.11/dist-packages (from jsonpatch<2.0,>=1.33->langchain-core>=0.1->langgraph) (3.0.0)\n",
            "Collecting mypy-extensions>=0.3.0 (from typing-inspect<1,>=0.4.0->dataclasses-json<0.7,>=0.5.7->langchain_community)\n",
            "  Downloading mypy_extensions-1.1.0-py3-none-any.whl.metadata (1.1 kB)\n",
            "Downloading langgraph-0.4.7-py3-none-any.whl (154 kB)\n",
            "\u001b[2K   \u001b[90m━━━━━━━━━━━━━━━━━━━━━━━━━━━━━━━━━━━━━━━━\u001b[0m \u001b[32m154.9/154.9 kB\u001b[0m \u001b[31m9.6 MB/s\u001b[0m eta \u001b[36m0:00:00\u001b[0m\n",
            "\u001b[?25hDownloading langchain_groq-0.3.2-py3-none-any.whl (15 kB)\n",
            "Downloading langchain_community-0.3.24-py3-none-any.whl (2.5 MB)\n",
            "\u001b[2K   \u001b[90m━━━━━━━━━━━━━━━━━━━━━━━━━━━━━━━━━━━━━━━━\u001b[0m \u001b[32m2.5/2.5 MB\u001b[0m \u001b[31m68.4 MB/s\u001b[0m eta \u001b[36m0:00:00\u001b[0m\n",
            "\u001b[?25hDownloading dataclasses_json-0.6.7-py3-none-any.whl (28 kB)\n",
            "Downloading groq-0.26.0-py3-none-any.whl (129 kB)\n",
            "\u001b[2K   \u001b[90m━━━━━━━━━━━━━━━━━━━━━━━━━━━━━━━━━━━━━━━━\u001b[0m \u001b[32m129.6/129.6 kB\u001b[0m \u001b[31m11.8 MB/s\u001b[0m eta \u001b[36m0:00:00\u001b[0m\n",
            "\u001b[?25hDownloading httpx_sse-0.4.0-py3-none-any.whl (7.8 kB)\n",
            "Downloading langgraph_checkpoint-2.0.26-py3-none-any.whl (44 kB)\n",
            "\u001b[2K   \u001b[90m━━━━━━━━━━━━━━━━━━━━━━━━━━━━━━━━━━━━━━━━\u001b[0m \u001b[32m44.2/44.2 kB\u001b[0m \u001b[31m4.1 MB/s\u001b[0m eta \u001b[36m0:00:00\u001b[0m\n",
            "\u001b[?25hDownloading langgraph_prebuilt-0.2.2-py3-none-any.whl (23 kB)\n",
            "Downloading langgraph_sdk-0.1.70-py3-none-any.whl (49 kB)\n",
            "\u001b[2K   \u001b[90m━━━━━━━━━━━━━━━━━━━━━━━━━━━━━━━━━━━━━━━━\u001b[0m \u001b[32m50.0/50.0 kB\u001b[0m \u001b[31m4.5 MB/s\u001b[0m eta \u001b[36m0:00:00\u001b[0m\n",
            "\u001b[?25hDownloading pydantic_settings-2.9.1-py3-none-any.whl (44 kB)\n",
            "\u001b[2K   \u001b[90m━━━━━━━━━━━━━━━━━━━━━━━━━━━━━━━━━━━━━━━━\u001b[0m \u001b[32m44.4/44.4 kB\u001b[0m \u001b[31m4.0 MB/s\u001b[0m eta \u001b[36m0:00:00\u001b[0m\n",
            "\u001b[?25hDownloading marshmallow-3.26.1-py3-none-any.whl (50 kB)\n",
            "\u001b[2K   \u001b[90m━━━━━━━━━━━━━━━━━━━━━━━━━━━━━━━━━━━━━━━━\u001b[0m \u001b[32m50.9/50.9 kB\u001b[0m \u001b[31m5.1 MB/s\u001b[0m eta \u001b[36m0:00:00\u001b[0m\n",
            "\u001b[?25hDownloading ormsgpack-1.10.0-cp311-cp311-manylinux_2_17_x86_64.manylinux2014_x86_64.whl (216 kB)\n",
            "\u001b[2K   \u001b[90m━━━━━━━━━━━━━━━━━━━━━━━━━━━━━━━━━━━━━━━━\u001b[0m \u001b[32m216.5/216.5 kB\u001b[0m \u001b[31m21.9 MB/s\u001b[0m eta \u001b[36m0:00:00\u001b[0m\n",
            "\u001b[?25hDownloading python_dotenv-1.1.0-py3-none-any.whl (20 kB)\n",
            "Downloading typing_inspect-0.9.0-py3-none-any.whl (8.8 kB)\n",
            "Downloading mypy_extensions-1.1.0-py3-none-any.whl (5.0 kB)\n",
            "Installing collected packages: python-dotenv, ormsgpack, mypy-extensions, marshmallow, httpx-sse, typing-inspect, pydantic-settings, langgraph-sdk, groq, dataclasses-json, langgraph-checkpoint, langchain_groq, langgraph-prebuilt, langgraph, langchain_community\n",
            "Successfully installed dataclasses-json-0.6.7 groq-0.26.0 httpx-sse-0.4.0 langchain_community-0.3.24 langchain_groq-0.3.2 langgraph-0.4.7 langgraph-checkpoint-2.0.26 langgraph-prebuilt-0.2.2 langgraph-sdk-0.1.70 marshmallow-3.26.1 mypy-extensions-1.1.0 ormsgpack-1.10.0 pydantic-settings-2.9.1 python-dotenv-1.1.0 typing-inspect-0.9.0\n"
          ]
        }
      ],
      "source": [
        "#langchain architectures is installed\n",
        "#!pip install langgraph langsmith langchain_groq langchain_community"
      ]
    },
    {
      "cell_type": "code",
      "source": [
        "groq_api_key = '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'\n"
      ],
      "metadata": {
        "id": "kiV9f6u0eq2k"
      },
      "execution_count": 2,
      "outputs": []
    },
    {
      "cell_type": "code",
      "source": [
        "from langchain_groq import ChatGroq"
      ],
      "metadata": {
        "id": "InmyDUsJfdSo"
      },
      "execution_count": 3,
      "outputs": []
    },
    {
      "cell_type": "code",
      "source": [
        "llm = ChatGroq(groq_api_key=groq_api_key,model_name='gemma2-9b-it')"
      ],
      "metadata": {
        "id": "ZTa8BHVPf-bH"
      },
      "execution_count": 4,
      "outputs": []
    },
    {
      "cell_type": "code",
      "source": [
        "from typing import Annotated\n",
        "from typing import TypedDict\n",
        "from langgraph.graph.message import add_messages\n",
        "from langgraph.graph import StateGraph,START,END"
      ],
      "metadata": {
        "id": "Gr58u3tigZcP"
      },
      "execution_count": 8,
      "outputs": []
    },
    {
      "cell_type": "code",
      "source": [
        "class State(TypedDict):\n",
        "  messages:Annotated[list,add_messages]\n",
        "graph_builder = StateGraph(State)"
      ],
      "metadata": {
        "id": "JVxEQ1H3g9Ca"
      },
      "execution_count": 21,
      "outputs": []
    },
    {
      "cell_type": "code",
      "source": [
        "def chatbot(state:State):\n",
        "  return {'messages':llm.invoke(state['messages'])}"
      ],
      "metadata": {
        "id": "x3LDuKCEkmaX"
      },
      "execution_count": 22,
      "outputs": []
    },
    {
      "cell_type": "code",
      "source": [
        "graph_builder.add_node('chatbot',chatbot)"
      ],
      "metadata": {
        "colab": {
          "base_uri": "https://localhost:8080/"
        },
        "id": "2t8xahHGlCAD",
        "outputId": "b9941977-74a9-4779-bb30-994d1597ec0b"
      },
      "execution_count": 23,
      "outputs": [
        {
          "output_type": "execute_result",
          "data": {
            "text/plain": [
              "<langgraph.graph.state.StateGraph at 0x783694c66fd0>"
            ]
          },
          "metadata": {},
          "execution_count": 23
        }
      ]
    },
    {
      "cell_type": "code",
      "source": [
        "graph_builder"
      ],
      "metadata": {
        "colab": {
          "base_uri": "https://localhost:8080/"
        },
        "id": "eTwQ0MOjl7nY",
        "outputId": "6c20e0de-7ad1-460a-e68c-ddc12a83fedc"
      },
      "execution_count": 24,
      "outputs": [
        {
          "output_type": "execute_result",
          "data": {
            "text/plain": [
              "<langgraph.graph.state.StateGraph at 0x783694c66fd0>"
            ]
          },
          "metadata": {},
          "execution_count": 24
        }
      ]
    },
    {
      "cell_type": "code",
      "source": [
        "graph_builder.add_edge(START,'chatbot')\n",
        "graph_builder.add_edge('chatbot',END)"
      ],
      "metadata": {
        "colab": {
          "base_uri": "https://localhost:8080/"
        },
        "id": "1d__btRKl90A",
        "outputId": "157e9369-20a4-4fbd-fe17-fe87074fd2fe"
      },
      "execution_count": 25,
      "outputs": [
        {
          "output_type": "execute_result",
          "data": {
            "text/plain": [
              "<langgraph.graph.state.StateGraph at 0x783694c66fd0>"
            ]
          },
          "metadata": {},
          "execution_count": 25
        }
      ]
    },
    {
      "cell_type": "code",
      "source": [
        "graph_builder.compile()"
      ],
      "metadata": {
        "colab": {
          "base_uri": "https://localhost:8080/",
          "height": 251
        },
        "id": "oWafJPlPmqqr",
        "outputId": "bf457551-ebd5-4972-97ef-aa0ec0f4f87f"
      },
      "execution_count": 31,
      "outputs": [
        {
          "output_type": "execute_result",
          "data": {
            "text/plain": [
              "<langgraph.graph.state.CompiledStateGraph object at 0x783694b82c10>"
            ],
            "image/png": "[encoded data removed]"
          },
          "metadata": {},
          "execution_count": 31
        }
      ]
    },
    {
      "cell_type": "code",
      "source": [
        "graph=graph_builder.compile()"
      ],
      "metadata": {
        "id": "WnEcuclOoNgv"
      },
      "execution_count": 33,
      "outputs": []
    },
    {
      "cell_type": "code",
      "source": [
        "while True:\n",
        "  user_input= input(\"user:\")\n",
        "  if user_input.lower() in ['quit','q']:\n",
        "    print('Good Bye,Thanks for using Langgraph framework')\n",
        "    break\n",
        "  for event in graph.stream({'messages':('user',user_input)}):\n",
        "    print(event.values())\n",
        "    for value in event.values():\n",
        "      print(value['messages'])\n",
        "      print(('Assistant Radhika',value['messages'].content))"
      ],
      "metadata": {
        "colab": {
          "base_uri": "https://localhost:8080/"
        },
        "id": "s1xMInClnGDy",
        "outputId": "32c9a8dd-85e2-432c-b92c-1f3a461b61c6"
      },
      "execution_count": 36,
      "outputs": [
        {
          "output_type": "stream",
          "name": "stdout",
          "text": [
            "user:Generative AI job openings in 2025\n",
            "dict_values([{'messages': AIMessage(content=\"It's impossible to predict the *exact* job openings in 2025, as the field is constantly evolving. However, based on current trends and projections, here are some potential generative AI job openings you might see in 2025:\\n\\n**Core Development & Research:**\\n\\n* **Generative AI Researcher:**  Developing new algorithms, models, and techniques for text, image, audio, video, and multi-modal generation.\\n* **Machine Learning Engineer (Generative Focus):** Building and deploying generative AI models at scale, optimizing for performance, efficiency, and ethical considerations.\\n* **Data Scientist (Generative AI):**  Analyzing large datasets to identify patterns and insights, training and evaluating generative models, and ensuring data quality for generation tasks.\\n* **AI Ethicist (Generative AI):**  Addressing ethical concerns related to bias, fairness, misuse, and societal impact of generative AI technologies.\\n\\n**Application & Implementation:**\\n\\n* **Generative AI Product Manager:**  Defining product vision and strategy for generative AI applications across various industries.\\n* **Generative AI UX/UI Designer:**  Designing intuitive and engaging user interfaces for interacting with generative AI tools and systems.\\n* **AI Content Creator:**  Using generative AI to create written content, marketing materials, scripts, dialogue, code, and other creative assets.\\n* **Generative AI Trainer:** Fine-tuning pre-trained models for specific tasks and domains, providing high-quality training data.\\n* **Generative AI Architect:** Designing and implementing generative AI systems for specific use cases, considering infrastructure, scalability, and security.\\n\\n**Specialized Roles:**\\n\\n* **Generative Art & Media Specialist:**  Using generative AI to create novel artwork, music, animation, and interactive experiences.\\n* **Generative AI Healthcare Specialist:**  Applying generative AI to medical imaging, drug discovery, personalized medicine, and patient care.\\n* **Generative AI Education Specialist:**  Developing AI-powered educational tools and resources, personalized learning experiences, and new teaching methods.\\n\\n**Beyond Job Titles:**\\n\\n* **Interdisciplinary Collaboration:** Generative AI will foster collaboration between AI experts, domain specialists, designers, and business professionals. \\n* **Hybrid Roles:**  Many jobs will involve a blend of traditional skills and emerging AI capabilities, requiring continuous learning and adaptation.\\n\\n**Remember:** This is just a glimpse into the future. The specific job titles and requirements will continue to evolve as generative AI technology advances and new applications emerge.\\n\\n\\nThe key takeaway is to develop a strong foundation in AI concepts, programming, data science, and critical thinking.  Stay curious, adaptable, and embrace lifelong learning to thrive in this exciting and rapidly changing field.\\n\", additional_kwargs={}, response_metadata={'token_usage': {'completion_tokens': 558, 'prompt_tokens': 20, 'total_tokens': 578, 'completion_time': 1.014545455, 'prompt_time': 0.001924637, 'queue_time': 0.016216701, 'total_time': 1.016470092}, 'model_name': 'gemma2-9b-it', 'system_fingerprint': 'fp_10c08bf97d', 'finish_reason': 'stop', 'logprobs': None}, id='run--3c5ea5c2-fc58-41a4-b60d-8938128bdcdc-0', usage_metadata={'input_tokens': 20, 'output_tokens': 558, 'total_tokens': 578})}])\n",
            "content=\"It's impossible to predict the *exact* job openings in 2025, as the field is constantly evolving. However, based on current trends and projections, here are some potential generative AI job openings you might see in 2025:\\n\\n**Core Development & Research:**\\n\\n* **Generative AI Researcher:**  Developing new algorithms, models, and techniques for text, image, audio, video, and multi-modal generation.\\n* **Machine Learning Engineer (Generative Focus):** Building and deploying generative AI models at scale, optimizing for performance, efficiency, and ethical considerations.\\n* **Data Scientist (Generative AI):**  Analyzing large datasets to identify patterns and insights, training and evaluating generative models, and ensuring data quality for generation tasks.\\n* **AI Ethicist (Generative AI):**  Addressing ethical concerns related to bias, fairness, misuse, and societal impact of generative AI technologies.\\n\\n**Application & Implementation:**\\n\\n* **Generative AI Product Manager:**  Defining product vision and strategy for generative AI applications across various industries.\\n* **Generative AI UX/UI Designer:**  Designing intuitive and engaging user interfaces for interacting with generative AI tools and systems.\\n* **AI Content Creator:**  Using generative AI to create written content, marketing materials, scripts, dialogue, code, and other creative assets.\\n* **Generative AI Trainer:** Fine-tuning pre-trained models for specific tasks and domains, providing high-quality training data.\\n* **Generative AI Architect:** Designing and implementing generative AI systems for specific use cases, considering infrastructure, scalability, and security.\\n\\n**Specialized Roles:**\\n\\n* **Generative Art & Media Specialist:**  Using generative AI to create novel artwork, music, animation, and interactive experiences.\\n* **Generative AI Healthcare Specialist:**  Applying generative AI to medical imaging, drug discovery, personalized medicine, and patient care.\\n* **Generative AI Education Specialist:**  Developing AI-powered educational tools and resources, personalized learning experiences, and new teaching methods.\\n\\n**Beyond Job Titles:**\\n\\n* **Interdisciplinary Collaboration:** Generative AI will foster collaboration between AI experts, domain specialists, designers, and business professionals. \\n* **Hybrid Roles:**  Many jobs will involve a blend of traditional skills and emerging AI capabilities, requiring continuous learning and adaptation.\\n\\n**Remember:** This is just a glimpse into the future. The specific job titles and requirements will continue to evolve as generative AI technology advances and new applications emerge.\\n\\n\\nThe key takeaway is to develop a strong foundation in AI concepts, programming, data science, and critical thinking.  Stay curious, adaptable, and embrace lifelong learning to thrive in this exciting and rapidly changing field.\\n\" additional_kwargs={} response_metadata={'token_usage': {'completion_tokens': 558, 'prompt_tokens': 20, 'total_tokens': 578, 'completion_time': 1.014545455, 'prompt_time': 0.001924637, 'queue_time': 0.016216701, 'total_time': 1.016470092}, 'model_name': 'gemma2-9b-it', 'system_fingerprint': 'fp_10c08bf97d', 'finish_reason': 'stop', 'logprobs': None} id='run--3c5ea5c2-fc58-41a4-b60d-8938128bdcdc-0' usage_metadata={'input_tokens': 20, 'output_tokens': 558, 'total_tokens': 578}\n",
            "('Assistant Radhika', \"It's impossible to predict the *exact* job openings in 2025, as the field is constantly evolving. However, based on current trends and projections, here are some potential generative AI job openings you might see in 2025:\\n\\n**Core Development & Research:**\\n\\n* **Generative AI Researcher:**  Developing new algorithms, models, and techniques for text, image, audio, video, and multi-modal generation.\\n* **Machine Learning Engineer (Generative Focus):** Building and deploying generative AI models at scale, optimizing for performance, efficiency, and ethical considerations.\\n* **Data Scientist (Generative AI):**  Analyzing large datasets to identify patterns and insights, training and evaluating generative models, and ensuring data quality for generation tasks.\\n* **AI Ethicist (Generative AI):**  Addressing ethical concerns related to bias, fairness, misuse, and societal impact of generative AI technologies.\\n\\n**Application & Implementation:**\\n\\n* **Generative AI Product Manager:**  Defining product vision and strategy for generative AI applications across various industries.\\n* **Generative AI UX/UI Designer:**  Designing intuitive and engaging user interfaces for interacting with generative AI tools and systems.\\n* **AI Content Creator:**  Using generative AI to create written content, marketing materials, scripts, dialogue, code, and other creative assets.\\n* **Generative AI Trainer:** Fine-tuning pre-trained models for specific tasks and domains, providing high-quality training data.\\n* **Generative AI Architect:** Designing and implementing generative AI systems for specific use cases, considering infrastructure, scalability, and security.\\n\\n**Specialized Roles:**\\n\\n* **Generative Art & Media Specialist:**  Using generative AI to create novel artwork, music, animation, and interactive experiences.\\n* **Generative AI Healthcare Specialist:**  Applying generative AI to medical imaging, drug discovery, personalized medicine, and patient care.\\n* **Generative AI Education Specialist:**  Developing AI-powered educational tools and resources, personalized learning experiences, and new teaching methods.\\n\\n**Beyond Job Titles:**\\n\\n* **Interdisciplinary Collaboration:** Generative AI will foster collaboration between AI experts, domain specialists, designers, and business professionals. \\n* **Hybrid Roles:**  Many jobs will involve a blend of traditional skills and emerging AI capabilities, requiring continuous learning and adaptation.\\n\\n**Remember:** This is just a glimpse into the future. The specific job titles and requirements will continue to evolve as generative AI technology advances and new applications emerge.\\n\\n\\nThe key takeaway is to develop a strong foundation in AI concepts, programming, data science, and critical thinking.  Stay curious, adaptable, and embrace lifelong learning to thrive in this exciting and rapidly changing field.\\n\")\n",
            "user:q\n",
            "Good Bye,Thanks for using Langgraph framework\n"
          ]
        }
      ]
    }
  ]
}