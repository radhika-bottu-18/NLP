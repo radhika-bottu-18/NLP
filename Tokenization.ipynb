{
 "cells": [
  {
   "cell_type": "code",
   "execution_count": 1,
   "id": "179c7cf6-b63a-416d-b4c5-f93a5f6b9583",
   "metadata": {},
   "outputs": [],
   "source": [
    "import os\n",
    "import nltk "
   ]
  },
  {
   "cell_type": "code",
   "execution_count": 3,
   "id": "1064765d-c818-437b-804c-7af42343f7c7",
   "metadata": {},
   "outputs": [],
   "source": [
    "paragraph = '''AI, machine learning and deep learning are common terms in enterprise \n",
    "                IT and sometimes used interchangeably, especially by companies in their marketing materials. \n",
    "                But there are distinctions. The term AI, coined in the 1950s, refers to the simulation of human \n",
    "                intelligence by machines. It covers an ever-changing set of capabilities as new technologies \n",
    "                are developed. Technologies that come under the umbrella of AI include machine learning and \n",
    "                deep learning. Machine learning enables software applications to become more accurate at \n",
    "                predicting outcomes without being explicitly programmed to do so. Machine learning algorithms \n",
    "                use historical data as input to predict new output values. This approach became vastly more \n",
    "                effective with the rise of large data sets to train on. Deep learning, a subset of machine \n",
    "                learning, is based on our understanding of how the brain is structured. Deep learning's \n",
    "                use of artificial neural networks structure is the underpinning of recent advances in AI, \n",
    "                including self-driving cars and ChatGPT.'''\n",
    "                "
   ]
  },
  {
   "cell_type": "code",
   "execution_count": 5,
   "id": "5d053fd3-b3c7-48c9-bf9a-056ba77e474a",
   "metadata": {},
   "outputs": [],
   "source": [
    "sentences = nltk.sent_tokenize(paragraph)"
   ]
  },
  {
   "cell_type": "code",
   "execution_count": 7,
   "id": "9512efa3-29a1-490a-b9e0-9a5548080cd8",
   "metadata": {},
   "outputs": [
    {
     "data": {
      "text/plain": [
       "['AI, machine learning and deep learning are common terms in enterprise \\n                IT and sometimes used interchangeably, especially by companies in their marketing materials.',\n",
       " 'But there are distinctions.',\n",
       " 'The term AI, coined in the 1950s, refers to the simulation of human \\n                intelligence by machines.',\n",
       " 'It covers an ever-changing set of capabilities as new technologies \\n                are developed.',\n",
       " 'Technologies that come under the umbrella of AI include machine learning and \\n                deep learning.',\n",
       " 'Machine learning enables software applications to become more accurate at \\n                predicting outcomes without being explicitly programmed to do so.',\n",
       " 'Machine learning algorithms \\n                use historical data as input to predict new output values.',\n",
       " 'This approach became vastly more \\n                effective with the rise of large data sets to train on.',\n",
       " 'Deep learning, a subset of machine \\n                learning, is based on our understanding of how the brain is structured.',\n",
       " \"Deep learning's \\n                use of artificial neural networks structure is the underpinning of recent advances in AI, \\n                including self-driving cars and ChatGPT.\"]"
      ]
     },
     "execution_count": 7,
     "metadata": {},
     "output_type": "execute_result"
    }
   ],
   "source": [
    "sentences"
   ]
  },
  {
   "cell_type": "code",
   "execution_count": 9,
   "id": "f72ebd0f-3839-4423-a28e-a76af7f05058",
   "metadata": {},
   "outputs": [
    {
     "data": {
      "text/plain": [
       "10"
      ]
     },
     "execution_count": 9,
     "metadata": {},
     "output_type": "execute_result"
    }
   ],
   "source": [
    "len(sentences)"
   ]
  },
  {
   "cell_type": "code",
   "execution_count": 11,
   "id": "d40f1d48-c69e-400e-a15e-39bb5ca52946",
   "metadata": {},
   "outputs": [],
   "source": [
    "words= nltk.word_tokenize(paragraph)"
   ]
  },
  {
   "cell_type": "code",
   "execution_count": 13,
   "id": "c71bf1a7-3ab2-4c88-8668-d02ba8e1daa6",
   "metadata": {},
   "outputs": [
    {
     "data": {
      "text/plain": [
       "174"
      ]
     },
     "execution_count": 13,
     "metadata": {},
     "output_type": "execute_result"
    }
   ],
   "source": [
    "len(words)"
   ]
  },
  {
   "cell_type": "code",
   "execution_count": 15,
   "id": "e2e8da4c-247c-41be-919b-233d73bd35af",
   "metadata": {},
   "outputs": [],
   "source": [
    "wordpuncttokenize = nltk.wordpunct_tokenize(paragraph)"
   ]
  },
  {
   "cell_type": "code",
   "execution_count": 17,
   "id": "20a6d082-4ced-4f3e-90a0-4de87ed3f7e7",
   "metadata": {},
   "outputs": [
    {
     "data": {
      "text/plain": [
       "179"
      ]
     },
     "execution_count": 17,
     "metadata": {},
     "output_type": "execute_result"
    }
   ],
   "source": [
    "len(wordpuncttokenize)"
   ]
  },
  {
   "cell_type": "code",
   "execution_count": 19,
   "id": "c008a4a8-0f72-4441-bcfa-acdb853dc7d4",
   "metadata": {},
   "outputs": [],
   "source": [
    "blanklinetokenize= nltk.blankline_tokenize(paragraph)"
   ]
  },
  {
   "cell_type": "code",
   "execution_count": 21,
   "id": "5616f1c3-f7be-4130-810f-c41ac17a6496",
   "metadata": {},
   "outputs": [
    {
     "data": {
      "text/plain": [
       "[\"AI, machine learning and deep learning are common terms in enterprise \\n                IT and sometimes used interchangeably, especially by companies in their marketing materials. \\n                But there are distinctions. The term AI, coined in the 1950s, refers to the simulation of human \\n                intelligence by machines. It covers an ever-changing set of capabilities as new technologies \\n                are developed. Technologies that come under the umbrella of AI include machine learning and \\n                deep learning. Machine learning enables software applications to become more accurate at \\n                predicting outcomes without being explicitly programmed to do so. Machine learning algorithms \\n                use historical data as input to predict new output values. This approach became vastly more \\n                effective with the rise of large data sets to train on. Deep learning, a subset of machine \\n                learning, is based on our understanding of how the brain is structured. Deep learning's \\n                use of artificial neural networks structure is the underpinning of recent advances in AI, \\n                including self-driving cars and ChatGPT.\"]"
      ]
     },
     "execution_count": 21,
     "metadata": {},
     "output_type": "execute_result"
    }
   ],
   "source": [
    "blanklinetokenize"
   ]
  },
  {
   "cell_type": "code",
   "execution_count": 23,
   "id": "8d208b05-5809-49b9-9b3f-bdac55e0ef6a",
   "metadata": {},
   "outputs": [
    {
     "data": {
      "text/plain": [
       "1"
      ]
     },
     "execution_count": 23,
     "metadata": {},
     "output_type": "execute_result"
    }
   ],
   "source": [
    "len(blanklinetokenize)"
   ]
  },
  {
   "cell_type": "code",
   "execution_count": 25,
   "id": "8bb766dd-1edd-4eb4-b2dc-e6e74de41114",
   "metadata": {},
   "outputs": [],
   "source": [
    "from nltk.tokenize import WhitespaceTokenizer"
   ]
  },
  {
   "cell_type": "code",
   "execution_count": 27,
   "id": "d63f8b2c-542d-4380-a087-22c5ff40462e",
   "metadata": {},
   "outputs": [],
   "source": [
    "whitespacetokenize= WhitespaceTokenizer().tokenize(paragraph)"
   ]
  },
  {
   "cell_type": "code",
   "execution_count": 29,
   "id": "e8ec6955-e08b-4bf6-93e5-9fdb564b1a0a",
   "metadata": {},
   "outputs": [
    {
     "data": {
      "text/plain": [
       "156"
      ]
     },
     "execution_count": 29,
     "metadata": {},
     "output_type": "execute_result"
    }
   ],
   "source": [
    "len(whitespacetokenize)"
   ]
  },
  {
   "cell_type": "code",
   "execution_count": null,
   "id": "d0945165-53c6-493d-a41b-9af9e58734a1",
   "metadata": {},
   "outputs": [],
   "source": []
  }
 ],
 "metadata": {
  "kernelspec": {
   "display_name": "Python [conda env:base] *",
   "language": "python",
   "name": "conda-base-py"
  },
  "language_info": {
   "codemirror_mode": {
    "name": "ipython",
    "version": 3
   },
   "file_extension": ".py",
   "mimetype": "text/x-python",
   "name": "python",
   "nbconvert_exporter": "python",
   "pygments_lexer": "ipython3",
   "version": "3.12.7"
  }
 },
 "nbformat": 4,
 "nbformat_minor": 5
}
